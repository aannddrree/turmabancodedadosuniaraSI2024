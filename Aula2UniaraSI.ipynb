{
  "nbformat": 4,
  "nbformat_minor": 0,
  "metadata": {
    "colab": {
      "provenance": [],
      "authorship_tag": "ABX9TyPfTah9/TgTahgApgw/IxK0",
      "include_colab_link": true
    },
    "kernelspec": {
      "name": "python3",
      "display_name": "Python 3"
    },
    "language_info": {
      "name": "python"
    }
  },
  "cells": [
    {
      "cell_type": "markdown",
      "metadata": {
        "id": "view-in-github",
        "colab_type": "text"
      },
      "source": [
        "<a href=\"https://colab.research.google.com/github/aannddrree/turmabancodedadosuniaraSI2024/blob/main/Aula2UniaraSI.ipynb\" target=\"_parent\"><img src=\"https://colab.research.google.com/assets/colab-badge.svg\" alt=\"Open In Colab\"/></a>"
      ]
    },
    {
      "cell_type": "code",
      "execution_count": 1,
      "metadata": {
        "colab": {
          "base_uri": "https://localhost:8080/"
        },
        "id": "IxVbJfE4HcGP",
        "outputId": "3d7b0d7d-18b1-4c8b-fdef-fadeb67563ab"
      },
      "outputs": [
        {
          "output_type": "stream",
          "name": "stdout",
          "text": [
            "Oba turma da UNIARA de SI\n"
          ]
        }
      ],
      "source": [
        "print(\"Oba turma da UNIARA de SI\")"
      ]
    },
    {
      "cell_type": "code",
      "source": [
        "# Aqui estou declarando uma variavel recebendo o nome do arquivo\n",
        "arquivo = \"turmaUniaraArquivo.txt\"\n",
        "\n",
        "# estou abrindo um arquivo, para poder gravar dados ('w'), e criando\n",
        "# um alias (apelido) para poder ser utilizado dentro do código.\n",
        "with open(arquivo, 'w') as f:\n",
        "    f.write(\"É isso ai!!!! Turma!\\n\")\n",
        "    f.write(\"muito bom!\")\n",
        "\n",
        "print(\"feito!\")"
      ],
      "metadata": {
        "colab": {
          "base_uri": "https://localhost:8080/"
        },
        "id": "PsyXVWZQIwux",
        "outputId": "7d6831aa-019a-4a9b-8cd6-c64ad5f3f8cc"
      },
      "execution_count": 3,
      "outputs": [
        {
          "output_type": "stream",
          "name": "stdout",
          "text": [
            "feito!\n"
          ]
        }
      ]
    }
  ]
}